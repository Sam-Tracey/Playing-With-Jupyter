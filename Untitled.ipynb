{
 "cells": [
  {
   "cell_type": "markdown",
   "id": "68f7c096-05d7-476f-bc5a-8350963afde4",
   "metadata": {},
   "source": [
    "## Introduction to SQLite\n",
    "\n",
    "https://docs.python.org/3/library/sqlite3.html\n",
    "\n",
    "***"
   ]
  },
  {
   "cell_type": "code",
   "execution_count": 1,
   "id": "32ec810c-0e2c-4021-be47-317fac61c1c0",
   "metadata": {},
   "outputs": [],
   "source": [
    "import sqlite3\n",
    "conn = sqlite3.connect('data\\example.db')"
   ]
  },
  {
   "cell_type": "code",
   "execution_count": 2,
   "id": "5be51543-affc-42c1-ae5a-1b0b498ed5c5",
   "metadata": {},
   "outputs": [],
   "source": [
    "c = conn.cursor()"
   ]
  },
  {
   "cell_type": "code",
   "execution_count": 3,
   "id": "352798d6-1162-4eac-ba8b-1699a78ba109",
   "metadata": {},
   "outputs": [
    {
     "ename": "OperationalError",
     "evalue": "table person already exists",
     "output_type": "error",
     "traceback": [
      "\u001b[1;31m---------------------------------------------------------------------------\u001b[0m",
      "\u001b[1;31mOperationalError\u001b[0m                          Traceback (most recent call last)",
      "\u001b[1;32m<ipython-input-3-1f5efe43e563>\u001b[0m in \u001b[0;36m<module>\u001b[1;34m\u001b[0m\n\u001b[0;32m      1\u001b[0m \u001b[1;31m# Create table\u001b[0m\u001b[1;33m\u001b[0m\u001b[1;33m\u001b[0m\u001b[1;33m\u001b[0m\u001b[0m\n\u001b[1;32m----> 2\u001b[1;33m c.execute('''CREATE TABLE person\n\u001b[0m\u001b[0;32m      3\u001b[0m                (name text, address text)''')\n",
      "\u001b[1;31mOperationalError\u001b[0m: table person already exists"
     ]
    }
   ],
   "source": [
    "# Create table\n",
    "c.execute('''CREATE TABLE person\n",
    "               (name text, address text)''')"
   ]
  },
  {
   "cell_type": "code",
   "execution_count": null,
   "id": "3e4de254-e963-4dac-9c02-a9cfd59099c1",
   "metadata": {},
   "outputs": [],
   "source": [
    "conn.commit()"
   ]
  },
  {
   "cell_type": "code",
   "execution_count": 4,
   "id": "c0b763cb-6dd1-4193-87ea-9aaa216209b0",
   "metadata": {},
   "outputs": [
    {
     "data": {
      "text/plain": [
       "[('person',)]"
      ]
     },
     "execution_count": 4,
     "metadata": {},
     "output_type": "execute_result"
    }
   ],
   "source": [
    "c.execute(\"SELECT name FROM sqlite_master WHERE type='table'\")\n",
    "c.fetchall()"
   ]
  },
  {
   "cell_type": "code",
   "execution_count": 5,
   "id": "af258724-b7ca-4baa-b29f-b3e35e74f9a3",
   "metadata": {},
   "outputs": [],
   "source": [
    "# Insert one record into person database.\n",
    "c.execute(\"INSERT INTO person VALUES ('Anna Henry', 'Carlow')\")\n",
    "conn.commit()"
   ]
  },
  {
   "cell_type": "code",
   "execution_count": 6,
   "id": "575a90a8-2c43-495c-bcb6-4d28f31d4544",
   "metadata": {},
   "outputs": [
    {
     "data": {
      "text/plain": [
       "[('Anna Henry', 'Carlow')]"
      ]
     },
     "execution_count": 6,
     "metadata": {},
     "output_type": "execute_result"
    }
   ],
   "source": [
    "# View record\n",
    "c.execute(\"SELECT * FROM person\")\n",
    "c.fetchall()"
   ]
  },
  {
   "cell_type": "code",
   "execution_count": 7,
   "id": "86b60b1e-d820-4cb3-8db8-a387aa6fa9dc",
   "metadata": {},
   "outputs": [
    {
     "data": {
      "text/plain": [
       "[('Shelby Beck', 'Tipperary'),\n",
       " ('Marie Carr', 'Kerry'),\n",
       " ('Sarah Heath', 'Monaghan')]"
      ]
     },
     "execution_count": 7,
     "metadata": {},
     "output_type": "execute_result"
    }
   ],
   "source": [
    "# Insert multiple records in one go.\n",
    "person = [('Shelby Beck', 'Tipperary'), ('Marie Carr', 'Kerry'), ('Sarah Heath', 'Monaghan')]\n",
    "person"
   ]
  },
  {
   "cell_type": "code",
   "execution_count": 8,
   "id": "04bb2aa4-2092-464a-922a-881542ae83ac",
   "metadata": {},
   "outputs": [],
   "source": [
    "c.executemany(\"INSERT INTO person VALUES (?, ?)\", person)\n",
    "conn.commit()"
   ]
  },
  {
   "cell_type": "code",
   "execution_count": 9,
   "id": "3c377056-f20c-4768-878c-85755f5ce899",
   "metadata": {},
   "outputs": [
    {
     "data": {
      "text/plain": [
       "[('Anna Henry', 'Carlow'),\n",
       " ('Shelby Beck', 'Tipperary'),\n",
       " ('Marie Carr', 'Kerry'),\n",
       " ('Sarah Heath', 'Monaghan')]"
      ]
     },
     "execution_count": 9,
     "metadata": {},
     "output_type": "execute_result"
    }
   ],
   "source": [
    "# View records\n",
    "c.execute(\"SELECT * FROM person\")\n",
    "c.fetchall()"
   ]
  },
  {
   "cell_type": "code",
   "execution_count": 10,
   "id": "73eabe09-97d6-41b1-9629-1f056bef3779",
   "metadata": {},
   "outputs": [
    {
     "data": {
      "text/plain": [
       "[(1, 'Anna Henry', 'Carlow'),\n",
       " (2, 'Shelby Beck', 'Tipperary'),\n",
       " (3, 'Marie Carr', 'Kerry'),\n",
       " (4, 'Sarah Heath', 'Monaghan')]"
      ]
     },
     "execution_count": 10,
     "metadata": {},
     "output_type": "execute_result"
    }
   ],
   "source": [
    "# Viewing all records including ROWID\n",
    "c.execute(\"SELECT ROWID, name, address FROM person\")\n",
    "c.fetchall()"
   ]
  },
  {
   "cell_type": "code",
   "execution_count": 11,
   "id": "900c0c43-0daf-49ed-8a3c-c8a71dd3c62a",
   "metadata": {},
   "outputs": [],
   "source": [
    "# Insert duplicate record into person database.\n",
    "c.execute(\"INSERT INTO person VALUES ('Anna Henry', 'Carlow')\")\n",
    "conn.commit()"
   ]
  },
  {
   "cell_type": "code",
   "execution_count": 12,
   "id": "cf0a2cc8-f1ca-4078-9979-920e9e53ff76",
   "metadata": {},
   "outputs": [
    {
     "data": {
      "text/plain": [
       "[(1, 'Anna Henry', 'Carlow'),\n",
       " (2, 'Shelby Beck', 'Tipperary'),\n",
       " (3, 'Marie Carr', 'Kerry'),\n",
       " (4, 'Sarah Heath', 'Monaghan'),\n",
       " (5, 'Anna Henry', 'Carlow')]"
      ]
     },
     "execution_count": 12,
     "metadata": {},
     "output_type": "execute_result"
    }
   ],
   "source": [
    "# Viewing all records including ROWID\n",
    "c.execute(\"SELECT ROWID, name, address FROM person\")\n",
    "c.fetchall()"
   ]
  },
  {
   "cell_type": "code",
   "execution_count": 13,
   "id": "851ef513-e2fb-4775-9317-d89b1ceebc43",
   "metadata": {},
   "outputs": [],
   "source": [
    "# Deleting replicate row\n",
    "c.execute(\"DELETE FROM person WHERE ROWID=1\")\n",
    "conn.commit()"
   ]
  },
  {
   "cell_type": "code",
   "execution_count": 14,
   "id": "6dd0dba9-d0d1-4305-bff8-f5725df018c8",
   "metadata": {},
   "outputs": [
    {
     "data": {
      "text/plain": [
       "[(2, 'Shelby Beck', 'Tipperary'),\n",
       " (3, 'Marie Carr', 'Kerry'),\n",
       " (4, 'Sarah Heath', 'Monaghan'),\n",
       " (5, 'Anna Henry', 'Carlow')]"
      ]
     },
     "execution_count": 14,
     "metadata": {},
     "output_type": "execute_result"
    }
   ],
   "source": [
    "# Viewing all records including ROWID\n",
    "c.execute(\"SELECT ROWID, name, address FROM person\")\n",
    "c.fetchall()"
   ]
  },
  {
   "cell_type": "code",
   "execution_count": 15,
   "id": "5d0cd17a-f634-4d19-9dc9-66e69ee373ce",
   "metadata": {},
   "outputs": [],
   "source": [
    "# Insert one record into person database.\n",
    "c.execute(\"INSERT INTO person VALUES ('Rob Sneider', 'Leitrim')\")\n",
    "conn.commit()"
   ]
  },
  {
   "cell_type": "code",
   "execution_count": 16,
   "id": "4f59b257-f9d9-4ea8-9276-95280a289d52",
   "metadata": {},
   "outputs": [
    {
     "data": {
      "text/plain": [
       "[(2, 'Shelby Beck', 'Tipperary'),\n",
       " (3, 'Marie Carr', 'Kerry'),\n",
       " (4, 'Sarah Heath', 'Monaghan'),\n",
       " (5, 'Anna Henry', 'Carlow'),\n",
       " (6, 'Rob Sneider', 'Leitrim')]"
      ]
     },
     "execution_count": 16,
     "metadata": {},
     "output_type": "execute_result"
    }
   ],
   "source": [
    "# Viewing all records including ROWID\n",
    "c.execute(\"SELECT ROWID, name, address FROM person\")\n",
    "c.fetchall()"
   ]
  },
  {
   "cell_type": "code",
   "execution_count": null,
   "id": "8476d417-5b50-4272-a066-d3fb74906ddc",
   "metadata": {},
   "outputs": [],
   "source": [
    "# Create table (if you wanted to specify the name of the primary key column)\n",
    "# c.execute('''CREATE TABLE person(id INTEGER PRIMARY KEY,\n",
    "#               name text, address text)''')"
   ]
  },
  {
   "cell_type": "markdown",
   "id": "11d1d2b4-c9ec-484f-9e62-f9cb6a248ee8",
   "metadata": {},
   "source": [
    "<br>\n",
    "\n",
    "***\n",
    "\n",
    "## SQLite with Pandas"
   ]
  },
  {
   "cell_type": "code",
   "execution_count": 19,
   "id": "c6952982-b6ae-4658-afd0-0fbc862bbe04",
   "metadata": {},
   "outputs": [],
   "source": [
    "import pandas as pd"
   ]
  },
  {
   "cell_type": "code",
   "execution_count": 17,
   "id": "819aed1b-5b74-4667-bbb5-600b5d09124c",
   "metadata": {},
   "outputs": [],
   "source": [
    "c.execute(\"DROP TABLE person\")\n",
    "conn.commit()"
   ]
  },
  {
   "cell_type": "code",
   "execution_count": 20,
   "id": "8421ef7e-fcf2-4d4a-a4d9-a39f10ab31a6",
   "metadata": {},
   "outputs": [
    {
     "data": {
      "text/html": [
       "<div>\n",
       "<style scoped>\n",
       "    .dataframe tbody tr th:only-of-type {\n",
       "        vertical-align: middle;\n",
       "    }\n",
       "\n",
       "    .dataframe tbody tr th {\n",
       "        vertical-align: top;\n",
       "    }\n",
       "\n",
       "    .dataframe thead th {\n",
       "        text-align: right;\n",
       "    }\n",
       "</style>\n",
       "<table border=\"1\" class=\"dataframe\">\n",
       "  <thead>\n",
       "    <tr style=\"text-align: right;\">\n",
       "      <th></th>\n",
       "      <th>ds</th>\n",
       "      <th>yhat</th>\n",
       "      <th>yhat_lower</th>\n",
       "      <th>yhat_upper</th>\n",
       "    </tr>\n",
       "  </thead>\n",
       "  <tbody>\n",
       "    <tr>\n",
       "      <th>0</th>\n",
       "      <td>2016-01-01</td>\n",
       "      <td>1.636723e+06</td>\n",
       "      <td>1.427253e+06</td>\n",
       "      <td>1.839309e+06</td>\n",
       "    </tr>\n",
       "    <tr>\n",
       "      <th>1</th>\n",
       "      <td>2016-02-01</td>\n",
       "      <td>1.518569e+06</td>\n",
       "      <td>1.309728e+06</td>\n",
       "      <td>1.711762e+06</td>\n",
       "    </tr>\n",
       "    <tr>\n",
       "      <th>2</th>\n",
       "      <td>2016-03-01</td>\n",
       "      <td>1.372004e+06</td>\n",
       "      <td>1.159067e+06</td>\n",
       "      <td>1.572769e+06</td>\n",
       "    </tr>\n",
       "    <tr>\n",
       "      <th>3</th>\n",
       "      <td>2016-04-01</td>\n",
       "      <td>1.217164e+06</td>\n",
       "      <td>1.008798e+06</td>\n",
       "      <td>1.421646e+06</td>\n",
       "    </tr>\n",
       "    <tr>\n",
       "      <th>4</th>\n",
       "      <td>2016-05-01</td>\n",
       "      <td>1.237077e+06</td>\n",
       "      <td>1.029925e+06</td>\n",
       "      <td>1.429509e+06</td>\n",
       "    </tr>\n",
       "  </tbody>\n",
       "</table>\n",
       "</div>"
      ],
      "text/plain": [
       "           ds          yhat    yhat_lower    yhat_upper\n",
       "0  2016-01-01  1.636723e+06  1.427253e+06  1.839309e+06\n",
       "1  2016-02-01  1.518569e+06  1.309728e+06  1.711762e+06\n",
       "2  2016-03-01  1.372004e+06  1.159067e+06  1.572769e+06\n",
       "3  2016-04-01  1.217164e+06  1.008798e+06  1.421646e+06\n",
       "4  2016-05-01  1.237077e+06  1.029925e+06  1.429509e+06"
      ]
     },
     "execution_count": 20,
     "metadata": {},
     "output_type": "execute_result"
    }
   ],
   "source": [
    "revenue = pd.read_csv(\"data/revenue_forecast.csv\", index_col=0)\n",
    "revenue.head()"
   ]
  },
  {
   "cell_type": "code",
   "execution_count": 21,
   "id": "cd51a338-651a-4fa9-abd0-fe2eff3a6363",
   "metadata": {},
   "outputs": [],
   "source": [
    "revenue.to_sql(\"revenue\", conn)"
   ]
  },
  {
   "cell_type": "code",
   "execution_count": 22,
   "id": "e8ead5b1-88cb-4187-b0f2-4c76409319fc",
   "metadata": {
    "scrolled": true,
    "tags": []
   },
   "outputs": [
    {
     "data": {
      "text/plain": [
       "[(0, '2016-01-01', 1636722.9555564637, 1427252.674459031, 1839309.029700267),\n",
       " (1, '2016-02-01', 1518568.5396777238, 1309727.5902478087, 1711761.9027200174),\n",
       " (2, '2016-03-01', 1372003.6982572842, 1159066.6675515606, 1572768.995757019),\n",
       " (3, '2016-04-01', 1217163.7421811183, 1008797.7132842754, 1421646.0364259733),\n",
       " (4, '2016-05-01', 1237077.0763919395, 1029925.0056081832, 1429509.1323123856),\n",
       " (5, '2016-06-01', 1349333.011647644, 1168542.65146235, 1549028.2330960147),\n",
       " (6, '2016-07-01', 1313180.080666196, 1101959.9116113298, 1512120.445896265),\n",
       " (7, '2016-08-01', 1247161.4864774535, 1057447.9651060724, 1450425.3307192402),\n",
       " (8, '2016-09-01', 1288472.4998331622, 1096718.1077686318, 1494803.0941641033),\n",
       " (9, '2016-10-01', 1420541.437614018, 1217396.8787332564, 1610542.431373012),\n",
       " (10, '2016-11-01', 1364555.288092764, 1152473.688065984, 1555785.4529886458),\n",
       " (11, '2016-12-01', 1132315.5607365374, 925783.067199036, 1334443.800749711),\n",
       " (12, '2017-01-01', 1729306.270883294, 1520527.6578716033, 1919530.324932758),\n",
       " (13, '2017-02-01', 1379423.0808431753, 1174621.165037807, 1565826.047010468),\n",
       " (14, '2017-03-01', 1578226.3605774313, 1368288.4244683066, 1800841.821271664),\n",
       " (15, '2017-04-01', 1485387.5587468974, 1272912.7051913687, 1682213.731030529),\n",
       " (16,\n",
       "  '2017-05-01',\n",
       "  1533609.7547202082,\n",
       "  1318566.8491701132,\n",
       "  1747940.4915293986),\n",
       " (17,\n",
       "  '2017-06-01',\n",
       "  1421687.1534744198,\n",
       "  1212683.4350153094,\n",
       "  1617497.2140987949),\n",
       " (18,\n",
       "  '2017-07-01',\n",
       "  1594644.4946147506,\n",
       "  1378966.6659297245,\n",
       "  1792265.0876003983),\n",
       " (19, '2017-08-01', 1526198.820810167, 1335088.7745692723, 1731580.5396202712),\n",
       " (20, '2017-09-01', 1665392.5685531525, 1465047.821453729, 1869911.00166788),\n",
       " (21, '2017-10-01', 1660726.4431628152, 1469050.375883971, 1869961.0814015176),\n",
       " (22,\n",
       "  '2017-11-01',\n",
       "  1614992.2437978412,\n",
       "  1411623.1515878337,\n",
       "  1844045.0228859084),\n",
       " (23, '2017-12-01', 1181938.6691799671, 987373.4493669412, 1397472.8607844303),\n",
       " (24, '2018-01-01', 2028573.425191615, 1825763.9960666436, 2233300.9288656283),\n",
       " (25, '2018-02-01', 1760402.0614726965, 1564215.9620090437, 1965289.845620011),\n",
       " (26, '2018-03-01', 1782790.6989846367, 1566034.998551586, 1983571.6418645084),\n",
       " (27, '2018-04-01', 1753371.750540556, 1533003.594423358, 1959036.512091556),\n",
       " (28,\n",
       "  '2018-05-01',\n",
       "  1827463.5435734843,\n",
       "  1624009.4140927382,\n",
       "  2046150.7566356084),\n",
       " (29,\n",
       "  '2018-06-01',\n",
       "  1494062.5675398672,\n",
       "  1294785.2296973746,\n",
       "  1698947.9715035644),\n",
       " (30, '2018-07-01', 1879570.5831698335, 1671717.053337514, 2076958.634286149),\n",
       " (31,\n",
       "  '2018-08-01',\n",
       "  1807447.3785158424,\n",
       "  1591906.5416991266,\n",
       "  2010563.7028262725),\n",
       " (32, '2018-09-01', 2041652.075170039, 1835604.5483922013, 2254633.595483945),\n",
       " (33, '2018-10-01', 1897923.860614822, 1705275.7457322655, 2103844.20359565),\n",
       " (34, '2018-11-01', 1862304.0044128925, 1654090.724558601, 2060193.751773034),\n",
       " (35, '2018-12-01', 1233329.938753481, 1018401.2454088276, 1426037.1588860909),\n",
       " (36, '2019-01-01', 2359031.1693512267, 2140290.329833225, 2560966.37688847),\n",
       " (37, '2019-02-01', 2194614.259843489, 1987905.1076237976, 2389982.2244984875),\n",
       " (38, '2019-03-01', 2062577.885280209, 1854643.3689925133, 2274072.491976084),\n",
       " (39, '2019-04-01', 2124443.6590522253, 1926614.280954123, 2329415.297999781),\n",
       " (40, '2019-05-01', 2247615.387331577, 2017071.6263074183, 2440468.3715020632),\n",
       " (41, '2019-06-01', 1722107.223477797, 1507606.877715611, 1924555.6606853427),\n",
       " (42, '2019-07-01', 2349028.985976413, 2152530.1984049845, 2562644.1379038035),\n",
       " (43, '2019-08-01', 2227166.853981628, 2026610.398324034, 2430583.6408064133),\n",
       " (44, '2019-09-01', 2508697.019205884, 2305070.7161686555, 2717155.974902905),\n",
       " (45,\n",
       "  '2019-10-01',\n",
       "  2180440.6149857086,\n",
       "  1981859.6248383983,\n",
       "  2382402.3825038443),\n",
       " (46, '2019-11-01', 2110126.406607698, 1881062.933246, 2301609.872291459),\n",
       " (47,\n",
       "  '2019-12-01',\n",
       "  1246974.2809799672,\n",
       "  1035000.9594714592,\n",
       "  1459898.0644302072),\n",
       " (48, '2020-01-01', 2556729.3024966465, 2356120.8051828817, 2765087.520328223),\n",
       " (49, '2020-02-01', 2393825.5572850825, 2192010.32920976, 2606100.3122731526),\n",
       " (50, '2020-03-01', 2205398.4400374675, 1992205.543984244, 2406033.91782278),\n",
       " (51, '2020-04-01', 2005809.154938357, 1809054.44782449, 2223590.7844813243),\n",
       " (52, '2020-05-01', 1717141.0246771595, 1513759.553818746, 1919317.6835174945),\n",
       " (53,\n",
       "  '2020-06-01',\n",
       "  1823653.9609101631,\n",
       "  1611729.0735857356,\n",
       "  2019965.9654487453),\n",
       " (54, '2020-07-01', 1781944.0166454152, 1571430.03849049, 1981558.3364654195),\n",
       " (55, '2020-08-01', 1710183.175394937, 1510712.4249516348, 1929498.7294977428),\n",
       " (56,\n",
       "  '2020-09-01',\n",
       "  1745751.9420672625,\n",
       "  1542196.1311672074,\n",
       "  1942321.4403063636),\n",
       " (57, '2020-10-01', 1872263.866928022, 1670145.116385401, 2071691.5447329995),\n",
       " (58, '2020-11-01', 1810535.47048662, 1591908.556759121, 2011895.5279874809),\n",
       " (59,\n",
       "  '2020-12-01',\n",
       "  1572738.7327161063,\n",
       "  1367081.2142978704,\n",
       "  1779065.7367124818),\n",
       " (60, '2021-01-01', 2163987.198767845, 1942225.2584466168, 2367211.8670614944),\n",
       " (61, '2021-02-01', 1808347.0944153792, 1606592.870543034, 2012259.3820522327),\n",
       " (62, '2021-03-01', 2001950.5805764028, 1782442.7460692348, 2202801.081662665),\n",
       " (63, '2021-04-01', 2137840.405740279, 1919501.768613214, 2354246.326958165),\n",
       " (64, '2021-05-01', 2150694.503216701, 1952478.7121585847, 2364383.888878812),\n",
       " (65, '2021-06-01', 2002224.8668581136, 1798222.301461808, 2204189.014187488),\n",
       " (66, '2021-07-01', 2139814.109426957, 1926706.4248761723, 2364292.798021211),\n",
       " (67, '2021-08-01', 2034821.4004307308, 1837402.9365973424, 2254833.654360469),\n",
       " (68, '2021-09-01', 2137468.1129830186, 1916905.5545469008, 2340477.675211728),\n",
       " (69, '2021-10-01', 2097433.889144944, 1876425.7042048636, 2298407.1167360926),\n",
       " (70, '2021-10-31', 1983041.638850684, 1780287.0017604376, 2198392.8132101223),\n",
       " (71, '2021-11-30', 761805.6019038099, 556223.1567280232, 960932.4907361468),\n",
       " (72, '2021-12-31', 2597261.049154037, 2391829.416650215, 2800144.086357661),\n",
       " (73, '2022-01-31', 2573956.1950829984, 2362582.7511631665, 2776961.063592653),\n",
       " (74, '2022-02-28', 1840200.6380535625, 1626352.212515124, 2051419.1402847923),\n",
       " (75,\n",
       "  '2022-03-31',\n",
       "  2041402.0301912809,\n",
       "  1833047.1135036277,\n",
       "  2263749.3792748586)]"
      ]
     },
     "execution_count": 22,
     "metadata": {},
     "output_type": "execute_result"
    }
   ],
   "source": [
    "# View records\n",
    "c.execute(\"SELECT * FROM revenue\")\n",
    "c.fetchall()"
   ]
  },
  {
   "cell_type": "code",
   "execution_count": null,
   "id": "67dfc34e-e9f9-423a-b404-b0051ff4aaa5",
   "metadata": {},
   "outputs": [],
   "source": []
  },
  {
   "cell_type": "code",
   "execution_count": null,
   "id": "27768ca3-d870-46f7-b5e9-ed26e880eeb9",
   "metadata": {},
   "outputs": [],
   "source": []
  },
  {
   "cell_type": "code",
   "execution_count": null,
   "id": "9e927437-25e6-463c-9084-b4d7fdec04b1",
   "metadata": {},
   "outputs": [],
   "source": []
  }
 ],
 "metadata": {
  "kernelspec": {
   "display_name": "Python 3",
   "language": "python",
   "name": "python3"
  },
  "language_info": {
   "codemirror_mode": {
    "name": "ipython",
    "version": 3
   },
   "file_extension": ".py",
   "mimetype": "text/x-python",
   "name": "python",
   "nbconvert_exporter": "python",
   "pygments_lexer": "ipython3",
   "version": "3.8.8"
  }
 },
 "nbformat": 4,
 "nbformat_minor": 5
}
